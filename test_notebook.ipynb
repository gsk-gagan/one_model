{
 "cells": [
  {
   "cell_type": "code",
   "execution_count": 14,
   "metadata": {},
   "outputs": [],
   "source": [
    "import time\n",
    "def my_fun():\n",
    "    print(\"hello there\")\n",
    "    time.sleep(1)\n",
    "    print(\"Came back after 1\")\n",
    "    return \"Something\""
   ]
  },
  {
   "cell_type": "markdown",
   "metadata": {},
   "source": [
    "### Class for converting between json and pipeline"
   ]
  },
  {
   "cell_type": "code",
   "execution_count": 44,
   "metadata": {},
   "outputs": [],
   "source": [
    "class OneModelAdapter:\n",
    "    @staticmethod\n",
    "    def execute(command):\n",
    "        pass\n",
    "    \n",
    "    @staticmethod\n",
    "    def pipeline_from_graph(graph):\n",
    "        pass\n",
    "    \n",
    "    @staticmethod\n",
    "    def graph_from_pipeline(pipeline):\n",
    "        pass"
   ]
  },
  {
   "cell_type": "code",
   "execution_count": 51,
   "metadata": {},
   "outputs": [],
   "source": [
    "class OneModelGoAikit(OneModelAdapter):\n",
    "    @staticmethod\n",
    "    def execute(command):\n",
    "        try:\n",
    "            res = eval(command)\n",
    "            return str({\n",
    "                \"status\": \"success\",\n",
    "                \"response\": str(res)\n",
    "            })\n",
    "        except Exception as e:\n",
    "            return str({\n",
    "                \"status\": \"failure\",\n",
    "                \"response\": str(e)\n",
    "            })\n",
    "    \n",
    "    @staticmethod\n",
    "    def pipeline_from_graph(graph):\n",
    "        return 'Will convert from graph to pipeline and more with' + str(graph)\n",
    "    \n",
    "    @staticmethod\n",
    "    def graph_from_pipeline(pipeline):\n",
    "        return 'Graph from pipeline'"
   ]
  },
  {
   "cell_type": "code",
   "execution_count": 52,
   "metadata": {},
   "outputs": [
    {
     "name": "stdout",
     "output_type": "stream",
     "text": [
      "{'status': 'success', 'response': \"Will convert from graph to pipeline and more with{'nodes': [{'key': 0, 'text': 'Alpha', 'color': 'white', 'loc': '110 25', 'Parameters': '', 'r': 20, 'input_df': 1}, {'key': 1, 'text': 'Beta', 'color': 'white', 'loc': '50 125', 'Parameters': '', 'r': 0, 'input_df': 0}, {'key': 2, 'text': 'Gamma', 'color': 'white', 'loc': '170 125', 'Parameters': '', 'r': 0, 'input_df': 0}, {'key': 3, 'text': 'Delta', 'color': 'white', 'loc': '170 225', 'Parameters': '[1, 2, 3]', 'r': 0, 'input_df': 0}], 'links': [{'key': -1, 'from': 0, 'to': 1}, {'key': -2, 'from': 0, 'to': 2}, {'key': -3, 'from': 2, 'to': 3}]}\"}\n"
     ]
    }
   ],
   "source": [
    "inp = {\"nodes\":[{\"key\":0,\"text\":\"Alpha\",\"color\":\"white\",\"loc\":\"110 25\",\"Parameters\":\"\",\"r\":20,\"input_df\":1},{\"key\":1,\"text\":\"Beta\",\"color\":\"white\",\"loc\":\"50 125\",\"Parameters\":\"\",\"r\":0,\"input_df\":0},{\"key\":2,\"text\":\"Gamma\",\"color\":\"white\",\"loc\":\"170 125\",\"Parameters\":\"\",\"r\":0,\"input_df\":0},{\"key\":3,\"text\":\"Delta\",\"color\":\"white\",\"loc\":\"170 225\",\"Parameters\":\"[1, 2, 3]\",\"r\":0,\"input_df\":0}],\"links\":[{\"key\":-1,\"from\":0,\"to\":1},{\"key\":-2,\"from\":0,\"to\":2},{\"key\":-3,\"from\":2,\"to\":3}]}\n",
    "print(OneModelGoAikit.execute(\"OneModelGoAikit.pipeline_from_graph(inp)\"))"
   ]
  },
  {
   "cell_type": "code",
   "execution_count": null,
   "metadata": {},
   "outputs": [],
   "source": []
  },
  {
   "cell_type": "markdown",
   "metadata": {},
   "source": [
    "#### Use keywords to show the parameters values which can be supplied to the tool"
   ]
  },
  {
   "cell_type": "code",
   "execution_count": 51,
   "metadata": {},
   "outputs": [],
   "source": [
    "import inspect\n",
    "from inspect import Parameter"
   ]
  },
  {
   "cell_type": "code",
   "execution_count": 60,
   "metadata": {},
   "outputs": [],
   "source": [
    "class Test:\n",
    "    def __init__(self, c0, /, c1, c2=\"something\", *cargs, **ckwargs):\n",
    "        print(p1 + p2)"
   ]
  },
  {
   "cell_type": "code",
   "execution_count": 55,
   "metadata": {},
   "outputs": [],
   "source": [
    "def test(p0, /, p1, p2=\"something\", *args, **kwargs):\n",
    "    print(p1 + p2)\n",
    "    return p1 + p2"
   ]
  },
  {
   "cell_type": "code",
   "execution_count": 61,
   "metadata": {},
   "outputs": [
    {
     "data": {
      "text/plain": [
       "mappingproxy({'c0': <Parameter \"c0\">,\n",
       "              'c1': <Parameter \"c1\">,\n",
       "              'c2': <Parameter \"c2='something'\">,\n",
       "              'cargs': <Parameter \"*cargs\">,\n",
       "              'ckwargs': <Parameter \"**ckwargs\">})"
      ]
     },
     "execution_count": 61,
     "metadata": {},
     "output_type": "execute_result"
    }
   ],
   "source": [
    "params = inspect.signature(Test).parameters\n",
    "params"
   ]
  },
  {
   "cell_type": "code",
   "execution_count": 62,
   "metadata": {},
   "outputs": [
    {
     "name": "stdout",
     "output_type": "stream",
     "text": [
      "c0: POSITIONAL_ONLY\n",
      "c1: POSITIONAL_OR_KEYWORD\n",
      "c2: POSITIONAL_OR_KEYWORD\n",
      "\tDefault: something\n",
      "cargs: VAR_POSITIONAL\n",
      "ckwargs: VAR_KEYWORD\n"
     ]
    }
   ],
   "source": [
    "for key in params:\n",
    "    param = params[key]\n",
    "    \n",
    "    if param.kind == Parameter.POSITIONAL_ONLY:\n",
    "        print(f'{key}: POSITIONAL_ONLY')\n",
    "    elif param.kind == Parameter.POSITIONAL_OR_KEYWORD:\n",
    "        print(f'{key}: POSITIONAL_OR_KEYWORD')\n",
    "    elif param.kind == Parameter.VAR_POSITIONAL:\n",
    "        print(f'{key}: VAR_POSITIONAL')\n",
    "    elif param.kind == Parameter.KEYWORD_ONLY:\n",
    "        print(f'{key}: KEYWORD_ONLY')\n",
    "    elif param.kind == Parameter.VAR_KEYWORD:\n",
    "        print(f'{key}: VAR_KEYWORD')\n",
    "        \n",
    "    if param.default != Parameter.empty:\n",
    "        print(f'\\tDefault: {param.default}')"
   ]
  },
  {
   "cell_type": "code",
   "execution_count": null,
   "metadata": {},
   "outputs": [],
   "source": []
  }
 ],
 "metadata": {
  "kernelspec": {
   "display_name": "Python 3",
   "language": "python",
   "name": "python3"
  },
  "language_info": {
   "codemirror_mode": {
    "name": "ipython",
    "version": 3
   },
   "file_extension": ".py",
   "mimetype": "text/x-python",
   "name": "python",
   "nbconvert_exporter": "python",
   "pygments_lexer": "ipython3",
   "version": "3.8.3"
  }
 },
 "nbformat": 4,
 "nbformat_minor": 4
}
